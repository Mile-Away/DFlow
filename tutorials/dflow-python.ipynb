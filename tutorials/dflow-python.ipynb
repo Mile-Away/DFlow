{
 "cells": [
  {
   "attachments": {},
   "cell_type": "markdown",
   "metadata": {},
   "source": [
    "# Task\n",
    "We want to achieve the following workflow:\n",
    "\n",
    "Step 1. \n",
    "1. Echo a string to msg.txt \n",
    "    \n",
    "2. Output the length of the string as a number\n",
    "    \n",
    "Step 2.\n",
    "1. Duplicate the content in the file from step 1 two times and redirect it to a new file\n",
    "    \n",
    "2. Get the number from step 1 and times the number by 2 and output it"
   ]
  },
  {
   "attachments": {},
   "cell_type": "markdown",
   "metadata": {},
   "source": [
    "##### In this tutorial, we will complete the task using `PythonOPTemplate` and class OP"
   ]
  },
  {
   "attachments": {},
   "cell_type": "markdown",
   "metadata": {},
   "source": [
    "import necessary packages"
   ]
  },
  {
   "cell_type": "code",
   "execution_count": 1,
   "metadata": {},
   "outputs": [],
   "source": [
    "from pathlib import Path\n",
    "\n",
    "from dflow import Step, Workflow\n",
    "from dflow.python import OP, OPIO, Artifact, OPIOSign, PythonOPTemplate"
   ]
  },
  {
   "attachments": {},
   "cell_type": "markdown",
   "metadata": {},
   "source": [
    "For step 1: \n",
    "\n",
    "This class can achieve the function to write files. In the example, we try to write a file containing message of string format, and output a number of int format.\n",
    "- input:\n",
    "    - \"msg\": the input message\n",
    "- output:\n",
    "    - \"out_art\": file containing the input message\n",
    "    - \"length\": length of the input message"
   ]
  },
  {
   "cell_type": "code",
   "execution_count": 2,
   "metadata": {},
   "outputs": [],
   "source": [
    "class WriteFile(OP):\n",
    "    def __init__(self):\n",
    "        pass\n",
    "\n",
    "    @classmethod\n",
    "    def get_input_sign(cls):\n",
    "        return OPIOSign({\n",
    "            \"msg\": str,\n",
    "        })\n",
    "\n",
    "    @classmethod\n",
    "    def get_output_sign(cls):\n",
    "        return OPIOSign({\n",
    "            \"out_art\": Artifact(Path),\n",
    "            \"length\": int,\n",
    "        })\n",
    "\n",
    "    @OP.exec_sign_check\n",
    "    def execute(\n",
    "            self,\n",
    "            op_in: OPIO,\n",
    "    ) -> OPIO:\n",
    "        with open(\"msg.txt\",\"w\") as f:\n",
    "            f.write(op_in[\"msg\"])\n",
    "        \n",
    "        op_out = OPIO({\n",
    "            \"out_art\": Path(\"msg.txt\"),\n",
    "            \"length\": len(op_in[\"msg\"]),\n",
    "        })\n",
    "        return op_out"
   ]
  },
  {
   "attachments": {},
   "cell_type": "markdown",
   "metadata": {},
   "source": [
    "For Step 2:\n",
    "\n",
    "This OP is to duplicate the content in the file from in_art, and to multiply the input number by 2."
   ]
  },
  {
   "cell_type": "code",
   "execution_count": 3,
   "metadata": {},
   "outputs": [],
   "source": [
    "class Duplicate(OP):\n",
    "    def __init__(self):\n",
    "        pass\n",
    "\n",
    "    @classmethod\n",
    "    def get_input_sign(cls):\n",
    "        return OPIOSign({\n",
    "            \"in_art\": Artifact(Path),\n",
    "            \"in_num\": int,\n",
    "        })\n",
    "\n",
    "    @classmethod\n",
    "    def get_output_sign(cls):\n",
    "        return OPIOSign({\n",
    "            \"out_art\": Artifact(Path),\n",
    "            \"out_num\": int,\n",
    "        })\n",
    "\n",
    "    @OP.exec_sign_check\n",
    "    def execute(\n",
    "            self,\n",
    "            op_in: OPIO,\n",
    "    ) -> OPIO:\n",
    "        with open(op_in[\"in_art\"], \"r\") as f:\n",
    "            content = f.read()\n",
    "        with open(\"bar.txt\", \"w\") as f:\n",
    "            f.write(content * 2)\n",
    "        \n",
    "        op_out = OPIO({\n",
    "            \"out_art\": Path(\"bar.txt\"),\n",
    "            \"out_num\": op_in[\"in_num\"] * 2,\n",
    "        })\n",
    "        return op_out"
   ]
  },
  {
   "attachments": {},
   "cell_type": "markdown",
   "metadata": {},
   "source": [
    "After defining the PythonOPTemplate, it is to define steps.\n",
    "- step0 is to write a file and to output length of the content using WriteFile OP and python image\n",
    "    - parameters:\n",
    "        - \"msg\": \"HelloWorld!\"\n",
    "- step1 is to duplicate the content in the file and to duplicate the number using Duplicate OP and python image\n",
    "    - artifacts:\n",
    "        - in_art file is from step0.outputs.artifacts[\"out_art\"]\n",
    "    - parameters:\n",
    "        - in_num is from step0.outputs.parameters[\"length\"]\n",
    "\n",
    "Finally, we need to set up a Workflow named \"python\" and then add step0 and step1.\n",
    "\n",
    "`wf.submit` is to submit this workflow to Argo."
   ]
  },
  {
   "cell_type": "code",
   "execution_count": 4,
   "metadata": {},
   "outputs": [
    {
     "name": "stdout",
     "output_type": "stream",
     "text": [
      "Workflow has been submitted (ID: python-dgjcr, UID: c1030cc9-8ce5-45ab-91b8-ceffadb14a57)\n"
     ]
    }
   ],
   "source": [
    "import sys\n",
    "step0 = Step(\n",
    "    name=\"step0\",\n",
    "    template=PythonOPTemplate(WriteFile, image=f\"python:{sys.version_info.major}.{sys.version_info.minor}\"),\n",
    "    parameters={\"msg\": \"HelloWorld!\"},\n",
    ")\n",
    "\n",
    "step1 = Step(\n",
    "    name=\"step1\",\n",
    "    template=PythonOPTemplate(Duplicate, image=f\"python:{sys.version_info.major}.{sys.version_info.minor}\"),\n",
    "    parameters={\"in_num\": step0.outputs.parameters[\"length\"]},\n",
    "    artifacts={\"in_art\": step0.outputs.artifacts[\"out_art\"]},\n",
    ")\n",
    "wf = Workflow(name=\"python\")\n",
    "wf.add(step0)\n",
    "wf.add(step1)\n",
    "wf.submit();"
   ]
  }
 ],
 "metadata": {
  "kernelspec": {
   "display_name": "base",
   "language": "python",
   "name": "python3"
  },
  "language_info": {
   "codemirror_mode": {
    "name": "ipython",
    "version": 3
   },
   "file_extension": ".py",
   "mimetype": "text/x-python",
   "name": "python",
   "nbconvert_exporter": "python",
   "pygments_lexer": "ipython3",
   "version": "3.9.7"
  },
  "orig_nbformat": 4,
  "vscode": {
   "interpreter": {
    "hash": "0d3b56f35093c43ef3a807ec55a8177d3d51ef411c9a162a01ec53961f392e60"
   }
  }
 },
 "nbformat": 4,
 "nbformat_minor": 2
}
