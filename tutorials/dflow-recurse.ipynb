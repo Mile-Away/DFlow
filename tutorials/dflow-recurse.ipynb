{
 "cells": [
  {
   "attachments": {},
   "cell_type": "markdown",
   "metadata": {},
   "source": [
    "# Task\n",
    "We want to achieve the following workflow:\n",
    "\n",
    "1. do addition until reaching a certain value\n",
    "\n",
    "**Note:**\n",
    "\n",
    "**This might seem simple and general for a python program. But you can imagine, we can swap 'do addition' to something else, like machine learning training.**\n",
    "\n",
    "**Run through this python notebook and think about the differences between the while loop and dflow recurse steps.**"
   ]
  },
  {
   "cell_type": "code",
   "execution_count": 1,
   "metadata": {},
   "outputs": [],
   "source": [
    "from dflow import (\n",
    "    InputParameter,\n",
    "    Inputs,\n",
    "    Step,\n",
    "    Steps,\n",
    "    Workflow,\n",
    ")\n",
    "from dflow.python import OP, OPIO, OPIOSign, PythonOPTemplate"
   ]
  },
  {
   "attachments": {},
   "cell_type": "markdown",
   "metadata": {},
   "source": [
    "Plus1 is a Python OP using python image which prints the current number of iter and outputs the number of next iter.\n",
    "\n",
    "- input: the number of current iter\n",
    "- output: the number of next iter"
   ]
  },
  {
   "cell_type": "code",
   "execution_count": 2,
   "metadata": {},
   "outputs": [],
   "source": [
    "class Plus1(OP):\n",
    "    def __init__(self):\n",
    "        pass\n",
    "\n",
    "    @classmethod\n",
    "    def get_input_sign(cls):\n",
    "        return OPIOSign({\n",
    "            'iter': int\n",
    "        })\n",
    "\n",
    "    @classmethod\n",
    "    def get_output_sign(cls):\n",
    "        return OPIOSign({\n",
    "            'iter': int\n",
    "        })\n",
    "\n",
    "    @OP.exec_sign_check\n",
    "    def execute(\n",
    "            self,\n",
    "            op_in: OPIO,\n",
    "    ) -> OPIO:\n",
    "        print(\"This is iter %s\" % op_in[\"iter\"])\n",
    "        return OPIO({\n",
    "            'iter': op_in['iter'] + 1\n",
    "        })"
   ]
  },
  {
   "attachments": {},
   "cell_type": "markdown",
   "metadata": {},
   "source": [
    "steps is a template of type Steps. It needs two parameters, iter whose default value is 0 and limit with value 3."
   ]
  },
  {
   "cell_type": "code",
   "execution_count": 3,
   "metadata": {},
   "outputs": [],
   "source": [
    "steps = Steps(\n",
    "    name=\"iter\",\n",
    "    inputs=Inputs(\n",
    "        parameters={\"iter\": InputParameter(value=0), \"limit\": InputParameter(value=3)}\n",
    "    ),\n",
    ")"
   ]
  },
  {
   "attachments": {},
   "cell_type": "markdown",
   "metadata": {},
   "source": [
    "**Note**\n",
    "\n",
    "1. We are using `Steps`. \n",
    "\n",
    "2. `Steps` is essentially an `OPTemplate` (which is a kind of super OP, [See source code](https://github.com/deepmodeling/dflow/blob/master/src/dflow/steps.py)). Using this function, we can construct more complicated workflow. For instance, we are using `Steps` to create a while loop. "
   ]
  },
  {
   "attachments": {},
   "cell_type": "markdown",
   "metadata": {},
   "source": [
    "The addition step:\n",
    "- it uses Plus1 template\n",
    "- its input parameter is from steps.inputs.parameters[\"iter\"]"
   ]
  },
  {
   "cell_type": "code",
   "execution_count": 4,
   "metadata": {},
   "outputs": [],
   "source": [
    "import sys\n",
    "addition = Step(\n",
    "    name=\"add\", template=PythonOPTemplate(Plus1, image=f\"python:{sys.version_info.major}.{sys.version_info.minor}\"), parameters={\"iter\": steps.inputs.parameters[\"iter\"]}\n",
    ")"
   ]
  },
  {
   "attachments": {},
   "cell_type": "markdown",
   "metadata": {},
   "source": [
    "the loop step: \n",
    "- update the number of iter by addition.outputs.parameters[\"iter\"]\n",
    "- the loop's condition is when the iter number of additon step less than the limit."
   ]
  },
  {
   "cell_type": "code",
   "execution_count": 5,
   "metadata": {},
   "outputs": [],
   "source": [
    "loop = Step(\n",
    "    name=\"loop\",\n",
    "    template=steps,\n",
    "    parameters={\"iter\": addition.outputs.parameters[\"iter\"]},\n",
    "    when=\"%s < %s\" % (addition.outputs.parameters[\"iter\"], steps.inputs.parameters[\"limit\"]),\n",
    ")"
   ]
  },
  {
   "attachments": {},
   "cell_type": "markdown",
   "metadata": {},
   "source": [
    "This step use steps as its template (note that Steps is a subclass of OPTemplate), meanwhile the steps it used contains this step, which gives a recursion. The recursion will stop when the \"when\" condition is not satisfied (after 3 loops in this example)"
   ]
  },
  {
   "cell_type": "code",
   "execution_count": 6,
   "metadata": {},
   "outputs": [],
   "source": [
    "steps.add(addition)\n",
    "steps.add(loop)"
   ]
  },
  {
   "cell_type": "code",
   "execution_count": 7,
   "metadata": {},
   "outputs": [
    {
     "name": "stdout",
     "output_type": "stream",
     "text": [
      "Workflow has been submitted (ID: recurse-d2w47, UID: 333bbd6f-575c-43ff-b2e8-402d4c1ec2be)\n"
     ]
    }
   ],
   "source": [
    "wf = Workflow(\"recurse\", steps=steps)\n",
    "wf.submit();"
   ]
  }
 ],
 "metadata": {
  "kernelspec": {
   "display_name": "base",
   "language": "python",
   "name": "python3"
  },
  "language_info": {
   "codemirror_mode": {
    "name": "ipython",
    "version": 3
   },
   "file_extension": ".py",
   "mimetype": "text/x-python",
   "name": "python",
   "nbconvert_exporter": "python",
   "pygments_lexer": "ipython3",
   "version": "3.9.7"
  },
  "orig_nbformat": 4,
  "vscode": {
   "interpreter": {
    "hash": "0d3b56f35093c43ef3a807ec55a8177d3d51ef411c9a162a01ec53961f392e60"
   }
  }
 },
 "nbformat": 4,
 "nbformat_minor": 2
}
