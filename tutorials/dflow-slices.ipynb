{
 "cells": [
  {
   "attachments": {},
   "cell_type": "markdown",
   "metadata": {},
   "source": [
    "# Task\n",
    "We want to achieve the following workflow:\n",
    "\n",
    "Step 1. \n",
    "1. Write \"Hello\" in a file \n",
    "\n",
    "Step 2:\n",
    "1. Check the file from step 1\n",
    "\n",
    "**However, this is too simple for dflow. We want to write \"Hello\" to 10 different files in parallel.**"
   ]
  },
  {
   "cell_type": "code",
   "execution_count": 1,
   "metadata": {},
   "outputs": [],
   "source": [
    "from typing import List\n",
    "\n",
    "from dflow import Step, Workflow\n",
    "from dflow.python import OP, OPIO, Artifact, OPIOSign, PythonOPTemplate, Slices"
   ]
  },
  {
   "attachments": {},
   "cell_type": "markdown",
   "metadata": {},
   "source": [
    "** Hello OP **\n",
    "- input: \n",
    "    - 'filename': str that is the name of the file to generate"
   ]
  },
  {
   "cell_type": "code",
   "execution_count": 2,
   "metadata": {},
   "outputs": [],
   "source": [
    "class Hello(OP):\n",
    "    def __init__(self):\n",
    "        pass\n",
    "\n",
    "    @classmethod\n",
    "    def get_input_sign(cls):\n",
    "        return OPIOSign({\n",
    "            'filename': str\n",
    "        })\n",
    "\n",
    "    @classmethod\n",
    "    def get_output_sign(cls):\n",
    "        return OPIOSign({\n",
    "            'out_art': Artifact(str)\n",
    "        })\n",
    "\n",
    "    @OP.exec_sign_check\n",
    "    def execute(\n",
    "            self,\n",
    "            op_in: OPIO,\n",
    "    ) -> OPIO:\n",
    "        file_num = int(op_in[\"filename\"].split('.')[0][1:])\n",
    "        with open(op_in[\"filename\"], \"w\") as f:\n",
    "            f.write(\"Hello\" * file_num)\n",
    "        op_out = OPIO({\n",
    "            'out_art': op_in[\"filename\"]\n",
    "        })\n",
    "        return op_out"
   ]
  },
  {
   "attachments": {},
   "cell_type": "markdown",
   "metadata": {},
   "source": [
    "**Check OP**\n",
    "It is to check the files that have been written and print the files' pathes. `print(op_in[\"files\"])` "
   ]
  },
  {
   "cell_type": "code",
   "execution_count": 3,
   "metadata": {},
   "outputs": [],
   "source": [
    "class Check(OP):\n",
    "    def __init__(self):\n",
    "        pass\n",
    "\n",
    "    @classmethod\n",
    "    def get_input_sign(cls):\n",
    "        return OPIOSign({\n",
    "            'files': Artifact(List[str])\n",
    "        })\n",
    "\n",
    "    @classmethod\n",
    "    def get_output_sign(cls):\n",
    "        return OPIOSign()\n",
    "\n",
    "    @OP.exec_sign_check\n",
    "    def execute(\n",
    "            self,\n",
    "            op_in: OPIO,\n",
    "    ) -> OPIO:\n",
    "        print(op_in[\"files\"])\n",
    "        return OPIO()"
   ]
  },
  {
   "attachments": {},
   "cell_type": "markdown",
   "metadata": {},
   "source": [
    "And then we can use OP above to write files repeatedly using Slices. This step is using Hello OP and python: 3.8 image.\n",
    "\n",
    "**Slices**\n",
    "We need to define input_parameter to be sliced and output_artifact to be stacked."
   ]
  },
  {
   "cell_type": "code",
   "execution_count": 4,
   "metadata": {},
   "outputs": [
    {
     "name": "stdout",
     "output_type": "stream",
     "text": [
      "Workflow has been submitted (ID: slices-ldtjd, UID: 2842d9b9-9b1d-4319-aaff-d59866213278)\n"
     ]
    }
   ],
   "source": [
    "import sys\n",
    "wf = Workflow(\"slices\")\n",
    "hello = Step(\"hello\",\n",
    "            PythonOPTemplate(Hello, image=f\"python:{sys.version_info.major}.{sys.version_info.minor}\",\n",
    "                            slices=Slices(\"{{item}}\",\n",
    "                                        input_parameter=[\"filename\"],\n",
    "                                        output_artifact=[\"out_art\"]\n",
    "                                        )\n",
    "                            ),\n",
    "            parameters={\"filename\": [f\"f{x}.txt\" for x in range(3)]},\n",
    "            with_param=range(3))\n",
    "check = Step(\"check\",\n",
    "            PythonOPTemplate(Check, image=f\"python:{sys.version_info.major}.{sys.version_info.minor}\"),\n",
    "            artifacts={\"files\": hello.outputs.artifacts[\"out_art\"]},\n",
    "            )\n",
    "wf.add(hello)\n",
    "wf.add(check)\n",
    "wf.submit();"
   ]
  }
 ],
 "metadata": {
  "kernelspec": {
   "display_name": "base",
   "language": "python",
   "name": "python3"
  },
  "language_info": {
   "codemirror_mode": {
    "name": "ipython",
    "version": 3
   },
   "file_extension": ".py",
   "mimetype": "text/x-python",
   "name": "python",
   "nbconvert_exporter": "python",
   "pygments_lexer": "ipython3",
   "version": "3.9.7"
  },
  "orig_nbformat": 4,
  "vscode": {
   "interpreter": {
    "hash": "0d3b56f35093c43ef3a807ec55a8177d3d51ef411c9a162a01ec53961f392e60"
   }
  }
 },
 "nbformat": 4,
 "nbformat_minor": 2
}
