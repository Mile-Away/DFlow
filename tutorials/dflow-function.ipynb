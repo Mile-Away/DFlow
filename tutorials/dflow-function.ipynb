{
 "cells": [
  {
   "attachments": {},
   "cell_type": "markdown",
   "metadata": {},
   "source": [
    "# Task\n",
    "We want to achieve the following workflow:\n",
    "\n",
    "Step 1. \n",
    "1. Echo a string to msg.txt \n",
    "    \n",
    "2. Output the length of the string as a number\n",
    "    \n",
    "Step 2.\n",
    "1. Duplicate the content in the file from step 1 two times and redirect it to a new file\n",
    "    \n",
    "2. Get the number from step 1 and times the number by 2 and output it"
   ]
  },
  {
   "attachments": {},
   "cell_type": "markdown",
   "metadata": {},
   "source": [
    "##### In this tutorial, we will complete the task using function OP"
   ]
  },
  {
   "attachments": {},
   "cell_type": "markdown",
   "metadata": {},
   "source": [
    "import necessary packages"
   ]
  },
  {
   "cell_type": "code",
   "execution_count": null,
   "metadata": {},
   "outputs": [],
   "source": [
    "import sys\n",
    "from pathlib import Path\n",
    "\n",
    "from dflow import Workflow\n",
    "from dflow.python import OP, Artifact"
   ]
  },
  {
   "attachments": {},
   "cell_type": "markdown",
   "metadata": {},
   "source": [
    "For step 1: \n",
    "\n",
    "This OP is to write files. In the example, we try to write a file containing message of string format, and output a number of int format.\n",
    "- input:\n",
    "    - \"msg\": the input message\n",
    "- output:\n",
    "    - \"out_art\": file containing the input message\n",
    "    - \"length\": length of the input message"
   ]
  },
  {
   "cell_type": "code",
   "execution_count": null,
   "metadata": {},
   "outputs": [],
   "source": [
    "@OP.function(image=f\"python:{sys.version_info.major}.{sys.version_info.minor}\")\n",
    "def write_file(msg: str) -> {\"out_art\": Artifact(Path), \"length\": int}:\n",
    "    with open(\"msg.txt\",\"w\") as f:\n",
    "        f.write(msg)\n",
    "    \n",
    "    return {\n",
    "        \"out_art\": Path(\"msg.txt\"),\n",
    "        \"length\": len(msg),\n",
    "    }"
   ]
  },
  {
   "attachments": {},
   "cell_type": "markdown",
   "metadata": {},
   "source": [
    "For Step 2:\n",
    "\n",
    "This OP is to duplicate the content in the file from in_art, and to multiply the input number by 2."
   ]
  },
  {
   "cell_type": "code",
   "execution_count": null,
   "metadata": {},
   "outputs": [],
   "source": [
    "@OP.function(image=f\"python:{sys.version_info.major}.{sys.version_info.minor}\")\n",
    "def duplicate(in_art: Artifact(Path), in_num: int) -> {\"out_art\": Artifact(Path), \"out_num\": int}:\n",
    "    with open(in_art, \"r\") as f:\n",
    "        content = f.read()\n",
    "    with open(\"bar.txt\", \"w\") as f:\n",
    "        f.write(content * 2)\n",
    "\n",
    "    return {\n",
    "        \"out_art\": Path(\"bar.txt\"),\n",
    "        \"out_num\": in_num * 2,\n",
    "    }"
   ]
  },
  {
   "attachments": {},
   "cell_type": "markdown",
   "metadata": {},
   "source": [
    "After defining OPs, call the OPs in series in the context of a workflow, which will connect them together as a workflow and submit it finally."
   ]
  },
  {
   "cell_type": "code",
   "execution_count": null,
   "metadata": {},
   "outputs": [],
   "source": [
    "with Workflow(name=\"python\") as wf:\n",
    "    out = write_file(msg=\"HelloWorld!\")\n",
    "    duplicate(in_num=out[\"length\"], in_art=out[\"out_art\"])"
   ]
  }
 ],
 "metadata": {
  "kernelspec": {
   "display_name": "base",
   "language": "python",
   "name": "python3"
  },
  "language_info": {
   "codemirror_mode": {
    "name": "ipython",
    "version": 3
   },
   "file_extension": ".py",
   "mimetype": "text/x-python",
   "name": "python",
   "nbconvert_exporter": "python",
   "pygments_lexer": "ipython3",
   "version": "3.9.7"
  },
  "orig_nbformat": 4,
  "vscode": {
   "interpreter": {
    "hash": "0d3b56f35093c43ef3a807ec55a8177d3d51ef411c9a162a01ec53961f392e60"
   }
  }
 },
 "nbformat": 4,
 "nbformat_minor": 2
}
