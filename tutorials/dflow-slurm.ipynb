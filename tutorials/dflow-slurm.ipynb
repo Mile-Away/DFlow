{
 "cells": [
  {
   "cell_type": "code",
   "execution_count": null,
   "metadata": {},
   "outputs": [],
   "source": [
    "from dflow import upload_artifact, Workflow, Step\n",
    "from dflow.python import PythonOPTemplate, OP, OPIO, OPIOSign, Artifact\n",
    "from dflow.plugins.dispatcher import DispatcherExecutor\n",
    "from pathlib import Path"
   ]
  },
  {
   "attachments": {},
   "cell_type": "markdown",
   "metadata": {},
   "source": [
    "**Duplicate OP**\n",
    "\n",
    "This OP duplicate input message and content of input file by a specified number of times as output message and output file, respectively.\n",
    "- input:\n",
    "    - \"msg\": the input message\n",
    "    - \"num\": the number of times\n",
    "    - \"foo\": the input file\n",
    "- output:\n",
    "    - \"msg\": the output message\n",
    "    - \"bar\": the output file"
   ]
  },
  {
   "cell_type": "code",
   "execution_count": null,
   "metadata": {},
   "outputs": [],
   "source": [
    "class Duplicate(OP):\n",
    "    def __init__(self):\n",
    "        pass\n",
    "\n",
    "    @classmethod\n",
    "    def get_input_sign(cls):\n",
    "        return OPIOSign({\n",
    "            \"msg\": str,\n",
    "            \"num\": int,\n",
    "            \"foo\": Artifact(Path),\n",
    "        })\n",
    "\n",
    "    @classmethod\n",
    "    def get_output_sign(cls):\n",
    "        return OPIOSign({\n",
    "            \"msg\": str,\n",
    "            \"bar\": Artifact(Path),\n",
    "        })\n",
    "\n",
    "    @OP.exec_sign_check\n",
    "    def execute(\n",
    "            self,\n",
    "            op_in: OPIO,\n",
    "    ) -> OPIO:\n",
    "        with open(op_in[\"foo\"], \"r\") as f:\n",
    "            content = f.read()\n",
    "        with open(\"bar.txt\", \"w\") as f:\n",
    "            f.write(content * op_in[\"num\"])\n",
    "\n",
    "        op_out = OPIO({\n",
    "            \"msg\": op_in[\"msg\"] * op_in[\"num\"],\n",
    "            \"bar\": Path(\"bar.txt\"),\n",
    "        })\n",
    "        return op_out"
   ]
  },
  {
   "attachments": {},
   "cell_type": "markdown",
   "metadata": {},
   "source": [
    "[DPDispatcher](https://github.com/deepmodeling/dpdispatcher) is a python package used to generate HPC scheduler systems (Slurm/PBS/LSF) or Bohrium jobs input scripts and submit these scripts and poke until they finish. Dflow provides `DispatcherExecutor` plugin to invoke dispatcher as executor to complete a certain step\n",
    "\n",
    "For SSH authentication, one can use password, specify path of private key file locally, or upload authorized private key to each node (or equivalently add each node to the authorized host list). In this example, password is used.\n",
    "\n",
    "For configuring extra machine, resources or task parameters for dispatcher, use `DispatcherExecutor(..., machine_dict=m, resources_dict=r, task_dict=t)`."
   ]
  },
  {
   "cell_type": "code",
   "execution_count": null,
   "metadata": {},
   "outputs": [],
   "source": [
    "dispatcher_executor = DispatcherExecutor(\n",
    "    host=\"your-cluster-address\",\n",
    "    username=\"your-login-username\",\n",
    "    password=\"your-login-password\",\n",
    ")\n",
    "\n",
    "with open(\"foo.txt\", \"w\") as f:\n",
    "    f.write(\"Hello world!\")\n",
    "\n",
    "step = Step(\n",
    "    \"duplicate\",\n",
    "    PythonOPTemplate(Duplicate),\n",
    "    parameters={\"msg\": \"Hello\", \"num\": 2},\n",
    "    artifacts={\"foo\": upload_artifact(\"foo.txt\")},\n",
    "    executor=dispatcher_executor,\n",
    ")\n",
    "\n",
    "wf = Workflow(name=\"slurm\")\n",
    "wf.add(step)\n",
    "wf.submit()"
   ]
  }
 ],
 "metadata": {
  "kernelspec": {
   "display_name": "Python 3.9.12 ('base')",
   "language": "python",
   "name": "python3"
  },
  "language_info": {
   "codemirror_mode": {
    "name": "ipython",
    "version": 3
   },
   "file_extension": ".py",
   "mimetype": "text/x-python",
   "name": "python",
   "nbconvert_exporter": "python",
   "pygments_lexer": "ipython3",
   "version": "3.9.7"
  },
  "orig_nbformat": 4,
  "vscode": {
   "interpreter": {
    "hash": "65b01cda8a5255d697b7c650722434fd8759cb966fc0703c59c131e9aaea8cdf"
   }
  }
 },
 "nbformat": 4,
 "nbformat_minor": 2
}
