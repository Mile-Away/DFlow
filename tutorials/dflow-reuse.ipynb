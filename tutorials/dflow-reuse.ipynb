{
 "cells": [
  {
   "attachments": {},
   "cell_type": "markdown",
   "metadata": {},
   "source": [
    "# Task\n",
    "We want to achieve the following workflow:\n",
    "\n",
    "1. do addition until reaching a certain value\n",
    "\n",
    "**Note:**\n",
    "\n",
    "Different from the previous `dflow-recurse.ipynb` example, this example shows how to reuse step from previous workflow. \n",
    "\n",
    "First, we will redo what we have done in `dflow-recurse.ipynb`. (`iter` starts from 0, `limit` sets to 3)\n",
    "\n",
    "Then, we will increase the `limit` to 6. But this time we want to reuse the steps from the first time.\n",
    "\n",
    "**BONUS**, we can modify the output of a step. So the third task we want to do is. We want to run the workflow from 0 (`iter`) to 6 (`limit`). But this time, we want to achieve it by modifying the output. \n",
    "\n",
    "**Why can we do this?**\n",
    "\n",
    "All the operated workflow are stored in the artifact repository (e.g. minio). Once you define a way to access them, you can find them in the artifact repository and reuse it."
   ]
  },
  {
   "cell_type": "code",
   "execution_count": 1,
   "metadata": {},
   "outputs": [],
   "source": [
    "from dflow import InputParameter, Inputs, Step, Steps, Workflow\n",
    "from dflow.python import OP, OPIO, OPIOSign, PythonOPTemplate"
   ]
  },
  {
   "cell_type": "code",
   "execution_count": 2,
   "metadata": {},
   "outputs": [],
   "source": [
    "class Plus1(OP):\n",
    "    def __init__(self):\n",
    "        pass\n",
    "\n",
    "    @classmethod\n",
    "    def get_input_sign(cls):\n",
    "        return OPIOSign({\n",
    "            'iter': int\n",
    "        })\n",
    "\n",
    "    @classmethod\n",
    "    def get_output_sign(cls):\n",
    "        return OPIOSign({\n",
    "            'iter': int\n",
    "        })\n",
    "\n",
    "    @OP.exec_sign_check\n",
    "    def execute(\n",
    "            self,\n",
    "            op_in: OPIO,\n",
    "    ) -> OPIO:\n",
    "        #we add this block to see effect of reuse\n",
    "        ###############################\n",
    "        import time \n",
    "        time.sleep(5) \n",
    "        ###############################\n",
    "        \n",
    "        return OPIO({\n",
    "            'iter': op_in['iter'] + 1\n",
    "        })"
   ]
  },
  {
   "attachments": {},
   "cell_type": "markdown",
   "metadata": {},
   "source": [
    "Now, `Steps` is defined the same as `dflow-recurse.ipynb`."
   ]
  },
  {
   "cell_type": "code",
   "execution_count": 3,
   "metadata": {},
   "outputs": [],
   "source": [
    "steps = Steps(\n",
    "    name=\"iter\",\n",
    "    inputs=Inputs(\n",
    "        parameters={\"iter\": InputParameter(value=0), \"limit\": InputParameter(value=3)}\n",
    "    ),\n",
    ")"
   ]
  },
  {
   "attachments": {},
   "cell_type": "markdown",
   "metadata": {},
   "source": [
    "This is the step we want to reuse later"
   ]
  },
  {
   "cell_type": "code",
   "execution_count": 4,
   "metadata": {},
   "outputs": [],
   "source": [
    "import sys\n",
    "addition = Step(name=\"add\",\n",
    "                template=PythonOPTemplate(Plus1, image=f\"python:{sys.version_info.major}.{sys.version_info.minor}\"),\n",
    "                parameters={\"iter\": steps.inputs.parameters[\"iter\"]},\n",
    "                key=\"iter-%s\" % steps.inputs.parameters[\"iter\"],  # a unique key\n",
    "                )"
   ]
  },
  {
   "attachments": {},
   "cell_type": "markdown",
   "metadata": {},
   "source": [
    "**NOTE**:\n",
    "In order to reuse it, we need to define a unique key.  "
   ]
  },
  {
   "cell_type": "code",
   "execution_count": 5,
   "metadata": {},
   "outputs": [],
   "source": [
    "loop = Step(\n",
    "    name=\"loop\",\n",
    "    template=steps,\n",
    "    parameters={\"iter\": addition.outputs.parameters[\"iter\"]},\n",
    "    when=\"%s < %s\" % (addition.outputs.parameters[\"iter\"], steps.inputs.parameters[\"limit\"]),\n",
    ")"
   ]
  },
  {
   "attachments": {},
   "cell_type": "markdown",
   "metadata": {},
   "source": [
    "Now, we have all the steps setup. "
   ]
  },
  {
   "attachments": {},
   "cell_type": "markdown",
   "metadata": {},
   "source": [
    "## First, original recurse step"
   ]
  },
  {
   "cell_type": "code",
   "execution_count": 6,
   "metadata": {},
   "outputs": [
    {
     "name": "stdout",
     "output_type": "stream",
     "text": [
      "Workflow has been submitted (ID: recurse-vvxjq, UID: 6dd772ae-11a5-4e93-ada3-424a667bb56a)\n"
     ]
    }
   ],
   "source": [
    "steps.add(addition)\n",
    "steps.add(loop)\n",
    "\n",
    "wf = Workflow(\"recurse\", steps=steps)\n",
    "wf.submit();"
   ]
  },
  {
   "attachments": {},
   "cell_type": "markdown",
   "metadata": {},
   "source": [
    "## Then, reuse the workflow"
   ]
  },
  {
   "attachments": {},
   "cell_type": "markdown",
   "metadata": {},
   "source": [
    "Wait the previous workflow to complete"
   ]
  },
  {
   "cell_type": "code",
   "execution_count": 7,
   "metadata": {},
   "outputs": [],
   "source": [
    "step0 = wf.query_step(key='iter-0')[0]\n",
    "step1 = wf.query_step(key='iter-1')[0]\n",
    "step2 = wf.query_step(key='iter-2')[0]"
   ]
  },
  {
   "attachments": {},
   "cell_type": "markdown",
   "metadata": {},
   "source": [
    "Now change the value in the steps and rerun it. To not make confusion, we just copy the above code to the cell below. "
   ]
  },
  {
   "cell_type": "code",
   "execution_count": 8,
   "metadata": {},
   "outputs": [],
   "source": [
    "steps = Steps(\n",
    "    name=\"iter\",\n",
    "    inputs=Inputs(\n",
    "        parameters={\"iter\": InputParameter(value=0), \"limit\": InputParameter(value=6)}\n",
    "    ),\n",
    ")\n",
    "addition = Step(name=\"add\",\n",
    "                template=PythonOPTemplate(Plus1,\n",
    "                                        image=f\"python:{sys.version_info.major}.{sys.version_info.minor}\"),\n",
    "                parameters={\"iter\": steps.inputs.parameters[\"iter\"]},\n",
    "                key=\"iter-%s\" % steps.inputs.parameters[\"iter\"]) # do not modify the key!!!!\n",
    "loop = Step(\n",
    "    name=\"loop\",\n",
    "    template=steps,\n",
    "    parameters={\"iter\": addition.outputs.parameters[\"iter\"]},\n",
    "    when=\"%s < %s\" % (addition.outputs.parameters[\"iter\"], steps.inputs.parameters[\"limit\"]),\n",
    ")"
   ]
  },
  {
   "cell_type": "code",
   "execution_count": 9,
   "metadata": {},
   "outputs": [
    {
     "name": "stdout",
     "output_type": "stream",
     "text": [
      "Workflow has been submitted (ID: recurse-resubmit-qreh8, UID: 9248232a-b9af-4cc1-850a-e203cf3d345f)\n"
     ]
    }
   ],
   "source": [
    "steps.add(addition)\n",
    "steps.add(loop)\n",
    "\n",
    "wf = Workflow(\"recurse-resubmit\", steps=steps)\n",
    "wf.submit(reuse_step=[step0, step1, step2]);"
   ]
  },
  {
   "attachments": {},
   "cell_type": "markdown",
   "metadata": {},
   "source": [
    "## Bonus, we can modify the output of a step."
   ]
  },
  {
   "cell_type": "code",
   "execution_count": 10,
   "metadata": {},
   "outputs": [],
   "source": [
    "steps = Steps(\n",
    "    name=\"iter\",\n",
    "    inputs=Inputs(\n",
    "        parameters={\"iter\": InputParameter(value=0), \"limit\": InputParameter(value=6)}\n",
    "    ),\n",
    ")\n",
    "addition = Step(name=\"add\",\n",
    "                template=PythonOPTemplate(Plus1,\n",
    "                                        image=f\"python:{sys.version_info.major}.{sys.version_info.minor}\"),\n",
    "                parameters={\"iter\": steps.inputs.parameters[\"iter\"]},\n",
    "                key=\"iter-%s\" % steps.inputs.parameters[\"iter\"]) # do not modify the key!!!!\n",
    "loop = Step(\n",
    "    name=\"loop\",\n",
    "    template=steps,\n",
    "    parameters={\"iter\": addition.outputs.parameters[\"iter\"]},\n",
    "    when=\"%s < %s\"\n",
    "    % (addition.outputs.parameters[\"iter\"], steps.inputs.parameters[\"limit\"]),\n",
    ")"
   ]
  },
  {
   "cell_type": "code",
   "execution_count": 11,
   "metadata": {},
   "outputs": [],
   "source": [
    "step2.modify_output_parameter(\"iter\", 5)"
   ]
  },
  {
   "cell_type": "code",
   "execution_count": 12,
   "metadata": {},
   "outputs": [
    {
     "name": "stdout",
     "output_type": "stream",
     "text": [
      "Workflow has been submitted (ID: recurse-resubmit-nw0xv, UID: 7fae24de-406a-465c-aa30-0066b8119cf1)\n"
     ]
    }
   ],
   "source": [
    "steps.add(addition)\n",
    "steps.add(loop)\n",
    "\n",
    "wf = Workflow(\"recurse-resubmit\", steps=steps)\n",
    "wf.submit(reuse_step=[step0, step1, step2]);"
   ]
  }
 ],
 "metadata": {
  "kernelspec": {
   "display_name": "base",
   "language": "python",
   "name": "python3"
  },
  "language_info": {
   "codemirror_mode": {
    "name": "ipython",
    "version": 3
   },
   "file_extension": ".py",
   "mimetype": "text/x-python",
   "name": "python",
   "nbconvert_exporter": "python",
   "pygments_lexer": "ipython3",
   "version": "3.9.7"
  },
  "orig_nbformat": 4,
  "vscode": {
   "interpreter": {
    "hash": "0d3b56f35093c43ef3a807ec55a8177d3d51ef411c9a162a01ec53961f392e60"
   }
  }
 },
 "nbformat": 4,
 "nbformat_minor": 2
}
